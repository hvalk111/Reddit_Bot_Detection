{
 "cells": [
  {
   "cell_type": "markdown",
   "metadata": {},
   "source": [
    "# NLP Preprocessing"
   ]
  },
  {
   "cell_type": "code",
   "execution_count": 12,
   "metadata": {},
   "outputs": [],
   "source": [
    "# !pip install autocorrect"
   ]
  },
  {
   "cell_type": "code",
   "execution_count": 13,
   "metadata": {},
   "outputs": [],
   "source": [
    "import pandas as pd\n",
    "import numpy as np\n",
    "from nltk.tokenize import RegexpTokenizer\n",
    "from nltk.stem.porter import PorterStemmer\n",
    "from nltk.corpus import stopwords\n",
    "from autocorrect import Speller"
   ]
  },
  {
   "cell_type": "markdown",
   "metadata": {},
   "source": [
    "#### Import reddit comment DataFrames"
   ]
  },
  {
   "cell_type": "code",
   "execution_count": 14,
   "metadata": {},
   "outputs": [],
   "source": [
    "df = pd.read_csv('./DataFrames/comments_df.csv')\n",
    "df2 = pd.read_csv('./DataFrames/holdout_df.csv')"
   ]
  },
  {
   "cell_type": "markdown",
   "metadata": {},
   "source": [
    "#### Remove non-alphanumeric characters"
   ]
  },
  {
   "cell_type": "code",
   "execution_count": 15,
   "metadata": {},
   "outputs": [],
   "source": [
    "tokenizer = RegexpTokenizer(r'\\w+')\n",
    "comment_tokens = df['comments'].apply(lambda x: tokenizer.tokenize(x.lower()))\n",
    "comment_tokens2 = df2['comments'].apply(lambda x: tokenizer.tokenize(x.lower()))"
   ]
  },
  {
   "cell_type": "markdown",
   "metadata": {},
   "source": [
    "#### Correct misspellings"
   ]
  },
  {
   "cell_type": "code",
   "execution_count": 16,
   "metadata": {},
   "outputs": [],
   "source": [
    "spell = Speller(lang='en')\n",
    "comment_tokens = comment_tokens.map(lambda x: [spell(each) for each in x])\n",
    "comment_tokens2 = comment_tokens2.map(lambda x: [spell(each) for each in x])"
   ]
  },
  {
   "cell_type": "markdown",
   "metadata": {},
   "source": [
    "#### Remove stopwords"
   ]
  },
  {
   "cell_type": "code",
   "execution_count": 17,
   "metadata": {},
   "outputs": [],
   "source": [
    "comment_tokens_no_sw = comment_tokens.apply(lambda x: [token for token in x if token not in stopwords.words('english')])\n",
    "comment_tokens_no_sw2 = comment_tokens2.apply(lambda x: [token for token in x if token not in stopwords.words('english')])\n"
   ]
  },
  {
   "cell_type": "markdown",
   "metadata": {},
   "source": [
    "#### Stem words"
   ]
  },
  {
   "cell_type": "code",
   "execution_count": 18,
   "metadata": {},
   "outputs": [],
   "source": [
    "p_stemmer = PorterStemmer()\n",
    "comment_stems = comment_tokens_no_sw.map(lambda x: [p_stemmer.stem(each) for each in x])\n",
    "comment_stems2 = comment_tokens_no_sw2.map(lambda x: [p_stemmer.stem(each) for each in x])\n"
   ]
  },
  {
   "cell_type": "markdown",
   "metadata": {},
   "source": [
    "#### Rejoin list of strings to single string per observation"
   ]
  },
  {
   "cell_type": "code",
   "execution_count": 19,
   "metadata": {},
   "outputs": [],
   "source": [
    "comment_stems_final = comment_stems.map(lambda x: ','.join(x).replace(',',' '))\n",
    "comment_stems_final2 = comment_stems2.map(lambda x: ','.join(x).replace(',',' '))\n"
   ]
  },
  {
   "cell_type": "markdown",
   "metadata": {},
   "source": [
    "#### Create dataframes with preprocessed comments and 'real' target variable series"
   ]
  },
  {
   "cell_type": "code",
   "execution_count": 20,
   "metadata": {},
   "outputs": [],
   "source": [
    "stem_df = pd.DataFrame()\n",
    "stem_df['comments'] = comment_stems_final\n",
    "stem_df['real'] = df['real'].copy()\n",
    "\n",
    "stem_df2 = pd.DataFrame()\n",
    "stem_df2['comments'] = comment_stems_final2\n",
    "stem_df2['real'] = df2['real'].copy()\n"
   ]
  },
  {
   "cell_type": "code",
   "execution_count": 116,
   "metadata": {},
   "outputs": [],
   "source": [
    "# stem_df.to_csv('./DataFrames/comments_stem_spellcheck_df.csv', index=False)\n",
    "# token_df.to_csv('./DataFrames/comments_token_spellcheck_df.csv', index=False)"
   ]
  }
 ],
 "metadata": {
  "kernelspec": {
   "display_name": "Python 3",
   "language": "python",
   "name": "python3"
  },
  "language_info": {
   "codemirror_mode": {
    "name": "ipython",
    "version": 3
   },
   "file_extension": ".py",
   "mimetype": "text/x-python",
   "name": "python",
   "nbconvert_exporter": "python",
   "pygments_lexer": "ipython3",
   "version": "3.7.6"
  }
 },
 "nbformat": 4,
 "nbformat_minor": 4
}
