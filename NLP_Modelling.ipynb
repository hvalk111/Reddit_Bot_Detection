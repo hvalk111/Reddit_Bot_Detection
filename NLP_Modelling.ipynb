{
 "cells": [
  {
   "cell_type": "markdown",
   "metadata": {},
   "source": [
    "# NLP Modelling"
   ]
  },
  {
   "cell_type": "code",
   "execution_count": 16,
   "metadata": {},
   "outputs": [],
   "source": [
    "import pandas as pd\n",
    "import numpy as np\n",
    "from sklearn.model_selection import GridSearchCV\n",
    "from sklearn.pipeline import Pipeline\n",
    "from sklearn.naive_bayes import MultinomialNB\n",
    "from sklearn.ensemble import RandomForestClassifier\n",
    "from sklearn.svm import SVC\n",
    "from sklearn.feature_extraction.text import CountVectorizer, TfidfVectorizer"
   ]
  },
  {
   "cell_type": "markdown",
   "metadata": {},
   "source": [
    "#### Import preprocessed dataframes"
   ]
  },
  {
   "cell_type": "code",
   "execution_count": 17,
   "metadata": {},
   "outputs": [],
   "source": [
    "stem_df = pd.read_csv('./DataFrames/comments_stem_spellcheck_df.csv')\n",
    "df2 = pd.read_csv('./DataFrames/holdout_df.csv')"
   ]
  },
  {
   "cell_type": "markdown",
   "metadata": {},
   "source": [
    "#### Define training vars"
   ]
  },
  {
   "cell_type": "code",
   "execution_count": 18,
   "metadata": {},
   "outputs": [],
   "source": [
    "X = stem_df['comments'].astype('U')\n",
    "y = stem_df['real'].astype('U')"
   ]
  },
  {
   "cell_type": "markdown",
   "metadata": {},
   "source": [
    "#### GridSearch #1\n",
    "> Multinomial Bayes, comment/uncomment lines 2/3 to toggle between CountVectorizer and TfidfVectorizer"
   ]
  },
  {
   "cell_type": "code",
   "execution_count": 19,
   "metadata": {},
   "outputs": [
    {
     "name": "stdout",
     "output_type": "stream",
     "text": [
      "{'nb__alpha': 0.1, 'tvec__max_features': 8000, 'tvec__ngram_range': (1, 1)}\n",
      "0.687963631618995\n",
      "0.8536644165863067\n"
     ]
    }
   ],
   "source": [
    "pipe = Pipeline([\n",
    "    #('cvec', CountVectorizer()),\n",
    "    ('tvec', TfidfVectorizer()),\n",
    "    ('nb', MultinomialNB())\n",
    "])\n",
    "\n",
    "params = {\n",
    "    'tvec__max_features': [4_000, 6_000, 8_000],\n",
    "    'tvec__ngram_range': [(1,1), (1,2), (1,3)],\n",
    "    'nb__alpha': [0.01, 0.1, 0.2]\n",
    "}\n",
    "\n",
    "gs = GridSearchCV(pipe,\n",
    "                  param_grid=params,\n",
    "                  cv=5)\n",
    "\n",
    "gs.fit(X, y)\n",
    "\n",
    "print(gs.best_params_)\n",
    "print(gs.best_score_)\n",
    "print(gs.score(X, y))"
   ]
  },
  {
   "cell_type": "markdown",
   "metadata": {},
   "source": [
    "#### GridSearch #2\n",
    "> RandomForest, comment/uncomment lines 2/3 to toggle between CountVectorizer and TfidfVectorizer"
   ]
  },
  {
   "cell_type": "code",
   "execution_count": 20,
   "metadata": {},
   "outputs": [
    {
     "name": "stdout",
     "output_type": "stream",
     "text": [
      "{'rf__max_depth': 7, 'rf__n_estimators': 60, 'tvec__max_features': 6000, 'tvec__ngram_range': (1, 3)}\n",
      "0.5603502032738261\n",
      "0.5639665702346512\n"
     ]
    }
   ],
   "source": [
    "pipe2 = Pipeline([\n",
    "    #('cvec', CountVectorizer()),\n",
    "    ('tvec', TfidfVectorizer()),\n",
    "    ('rf', RandomForestClassifier())\n",
    "])\n",
    "\n",
    "params2 = {\n",
    "    'tvec__max_features': [6_000, 8_000],\n",
    "    'tvec__ngram_range': [(1,1), (1,2),(1,3)],\n",
    "    'rf__n_estimators': [60, 90],\n",
    "    'rf__max_depth': [3, 5, 7]\n",
    "}\n",
    "\n",
    "gs2 = GridSearchCV(pipe2,\n",
    "                  param_grid=params2,\n",
    "                  cv=5)\n",
    "\n",
    "gs2.fit(X, y)\n",
    "\n",
    "print(gs2.best_params_)\n",
    "print(gs2.best_score_)\n",
    "print(gs2.score(X, y))"
   ]
  },
  {
   "cell_type": "markdown",
   "metadata": {},
   "source": [
    "#### GridSearch #3\n",
    "> Support Vector Classifier, comment/uncomment lines 2/3 to toggle between CountVectorizer and TfidfVectorizer"
   ]
  },
  {
   "cell_type": "code",
   "execution_count": 21,
   "metadata": {},
   "outputs": [
    {
     "name": "stdout",
     "output_type": "stream",
     "text": [
      "{'svc__C': 1, 'svc__gamma': 'scale', 'tvec__max_features': 8000, 'tvec__ngram_range': (1, 1)}\n",
      "0.7207482375829857\n",
      "0.953150112504018\n"
     ]
    }
   ],
   "source": [
    "pipe3 = Pipeline([\n",
    "    #('cvec', CountVectorizer()),\n",
    "    ('tvec', TfidfVectorizer()),\n",
    "    ('svc', SVC())\n",
    "])\n",
    "\n",
    "params3 = {\n",
    "    'tvec__max_features': [6_000, 8_000],\n",
    "    'tvec__ngram_range': [(1,1), (1,2)],\n",
    "    'svc__C': [6, 1, 14],\n",
    "    'svc__gamma': ['scale', 'auto'],\n",
    "    }\n",
    "\n",
    "gs3 = GridSearchCV(pipe3,\n",
    "                  param_grid=params3,\n",
    "                  cv=5)\n",
    "\n",
    "gs3.fit(X, y);\n",
    "\n",
    "print(gs3.best_params_)\n",
    "print(gs3.best_score_)\n",
    "print(gs3.score(X, y))"
   ]
  },
  {
   "cell_type": "markdown",
   "metadata": {},
   "source": [
    "#### Compute accuracy on holdout data"
   ]
  },
  {
   "cell_type": "code",
   "execution_count": 27,
   "metadata": {},
   "outputs": [
    {
     "name": "stdout",
     "output_type": "stream",
     "text": [
      "0.5978689818468824\n",
      "0.5244672454617206\n",
      "0.7087608524072613\n"
     ]
    }
   ],
   "source": [
    "gs_preds = gs.predict(df2['comments'])\n",
    "gs2_preds = gs2.predict(df2['comments'])\n",
    "gs3_preds = gs3.predict(df2['comments'])\n",
    "\n",
    "gs_preds = np.array([int(x) for x in gs_preds])\n",
    "gs2_preds = np.array([int(x) for x in gs2_preds])\n",
    "gs3_preds = np.array([int(x) for x in gs3_preds])\n",
    "\n",
    "\n",
    "real_array = np.array(df2['real'])\n",
    "\n",
    "comp1 = []\n",
    "for num in range(len(real_array)):\n",
    "    comp1.append(gs_preds[num] == real_array[num])\n",
    "    \n",
    "comp2 = []\n",
    "for num in range(len(real_array)):\n",
    "    comp2.append(gs2_preds[num] == real_array[num])\n",
    "\n",
    "comp3 = []\n",
    "for num in range(len(real_array)):\n",
    "    comp3.append(gs3_preds[num] == real_array[num])\n",
    "\n",
    "gs1_acc = sum(comp1)/len(comp1)\n",
    "gs2_acc = sum(comp2)/len(comp2)\n",
    "gs3_acc = sum(comp3)/len(comp3)\n",
    "print(gs1_acc)\n",
    "print(gs2_acc)\n",
    "print(gs3_acc)"
   ]
  }
 ],
 "metadata": {
  "kernelspec": {
   "display_name": "Python 3",
   "language": "python",
   "name": "python3"
  },
  "language_info": {
   "codemirror_mode": {
    "name": "ipython",
    "version": 3
   },
   "file_extension": ".py",
   "mimetype": "text/x-python",
   "name": "python",
   "nbconvert_exporter": "python",
   "pygments_lexer": "ipython3",
   "version": "3.7.6"
  }
 },
 "nbformat": 4,
 "nbformat_minor": 4
}
